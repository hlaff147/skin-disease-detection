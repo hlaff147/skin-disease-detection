{
 "cells": [
  {
   "cell_type": "markdown",
   "metadata": {},
   "source": [
    "#### **Import Libs**"
   ]
  },
  {
   "cell_type": "code",
   "execution_count": 15,
   "metadata": {},
   "outputs": [],
   "source": [
    "import pandas as pd\n",
    "import numpy as np\n",
    "from sklearn.model_selection import train_test_split\n",
    "import pandas as pd\n",
    "import io\n",
    "from sklearn.preprocessing import StandardScaler\n",
    "import matplotlib.pyplot as plt\n",
    "from sklearn.neural_network import MLPClassifier\n",
    "from sklearn.metrics import accuracy_score, confusion_matrix\n",
    "from joblib import delayed, Parallel\n",
    "from sklearn.datasets import load_digits\n",
    "import joblib\n"
   ]
  },
  {
   "cell_type": "markdown",
   "metadata": {},
   "source": [
    "#### **Getting training && validation data**"
   ]
  },
  {
   "cell_type": "code",
   "execution_count": 16,
   "metadata": {},
   "outputs": [
    {
     "name": "stdout",
     "output_type": "stream",
     "text": [
      "Conjuntos de treinamento e teste separados!\n"
     ]
    }
   ],
   "source": [
    "table = pd.read_csv('../databases/dermatology.csv')\n",
    "\n",
    "data = np.array(table)\n",
    "\n",
    "data = data[:, 1:]\n",
    "\n",
    "labels = []\n",
    "for line in range(data.shape[0]):\n",
    "  if(labels.count(data[line, data.shape[1]-1])==0):\n",
    "    labels.append(data[line, data.shape[1]-1])\n",
    "\n",
    "scaler = StandardScaler()\n",
    "\n",
    "y = np.array(pd.get_dummies(data[:, data.shape[1]-1])).astype(np.float32)\n",
    "x = (data[:, :(data.shape[1]-1)]).astype(np.float32)\n",
    "\n",
    "scaler.fit(x) \n",
    "\n",
    "train_x, test_x, train_y, test_y = train_test_split(x,y, test_size=0.25) \n",
    "\n",
    "print('Conjuntos de treinamento e teste separados!')"
   ]
  },
  {
   "attachments": {},
   "cell_type": "markdown",
   "metadata": {},
   "source": [
    "#### **MLP**"
   ]
  },
  {
   "cell_type": "code",
   "execution_count": 18,
   "metadata": {},
   "outputs": [],
   "source": [
    "# Best params Optuna\n",
    "params = {'hidden_layer_sizes': 14,\n",
    "          'n_layers': 5,\n",
    "          'activation': 'tanh',\n",
    "          'alpha': 0.024408255128290483,\n",
    "          'solver': 'lbfgs',\n",
    "          'learning_rate': 'adaptive',\n",
    "          'max_iter': 722}\n",
    "\n",
    "model = MLPClassifier(hidden_layer_sizes=params['hidden_layer_sizes'],\n",
    "                    activation=params['activation'],\n",
    "                    solver=params['solver'],\n",
    "                    alpha=params['alpha'],\n",
    "                    learning_rate=params['learning_rate'],\n",
    "                    max_iter=params['max_iter'])"
   ]
  },
  {
   "cell_type": "code",
   "execution_count": 19,
   "metadata": {},
   "outputs": [
    {
     "name": "stderr",
     "output_type": "stream",
     "text": [
      "d:\\MiniConda\\envs\\DataScience\\Lib\\site-packages\\sklearn\\neural_network\\_multilayer_perceptron.py:541: ConvergenceWarning: lbfgs failed to converge (status=1):\n",
      "STOP: TOTAL NO. of ITERATIONS REACHED LIMIT.\n",
      "\n",
      "Increase the number of iterations (max_iter) or scale the data as shown in:\n",
      "    https://scikit-learn.org/stable/modules/preprocessing.html\n",
      "  self.n_iter_ = _check_optimize_result(\"lbfgs\", opt_res, self.max_iter)\n"
     ]
    }
   ],
   "source": [
    "model.fit(train_x, train_y)\n",
    "test_pred = model.predict(test_x)\n",
    "accuracy = accuracy_score(test_y, test_pred)"
   ]
  },
  {
   "cell_type": "code",
   "execution_count": 20,
   "metadata": {},
   "outputs": [
    {
     "data": {
      "text/plain": [
       "0.967391304347826"
      ]
     },
     "execution_count": 20,
     "metadata": {},
     "output_type": "execute_result"
    }
   ],
   "source": [
    "accuracy"
   ]
  },
  {
   "attachments": {},
   "cell_type": "markdown",
   "metadata": {},
   "source": [
    "#### **Dump Model**"
   ]
  },
  {
   "cell_type": "code",
   "execution_count": 21,
   "metadata": {},
   "outputs": [
    {
     "data": {
      "text/plain": [
       "['../raw_models/mlp_model_1.pkl']"
      ]
     },
     "execution_count": 21,
     "metadata": {},
     "output_type": "execute_result"
    }
   ],
   "source": [
    "joblib.dump(model, '../raw_models/mlp_model_1.pkl')"
   ]
  }
 ],
 "metadata": {
  "kernelspec": {
   "display_name": "DataScience",
   "language": "python",
   "name": "python3"
  },
  "language_info": {
   "codemirror_mode": {
    "name": "ipython",
    "version": 3
   },
   "file_extension": ".py",
   "mimetype": "text/x-python",
   "name": "python",
   "nbconvert_exporter": "python",
   "pygments_lexer": "ipython3",
   "version": "3.11.3"
  },
  "orig_nbformat": 4
 },
 "nbformat": 4,
 "nbformat_minor": 2
}
