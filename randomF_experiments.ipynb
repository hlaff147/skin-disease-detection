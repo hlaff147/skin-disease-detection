{
 "cells": [
  {
   "attachments": {},
   "cell_type": "markdown",
   "metadata": {},
   "source": [
    "#### **Import Libs**"
   ]
  },
  {
   "cell_type": "code",
   "execution_count": 4,
   "metadata": {},
   "outputs": [],
   "source": [
    "import pandas as pd\n",
    "import numpy as np\n",
    "\n",
    "from keras import Sequential\n",
    "from keras.layers import Dense, Dropout\n",
    "from keras.callbacks import EarlyStopping\n",
    "from keras.optimizers import SGD, Adam\n",
    "\n",
    "import optuna\n",
    "\n",
    "from sklearn.ensemble import RandomForestClassifier\n",
    "from sklearn.metrics import accuracy_score\n",
    "import joblib\n",
    "\n",
    "from sklearn.model_selection import train_test_split\n",
    "from sklearn.preprocessing import StandardScaler"
   ]
  },
  {
   "attachments": {},
   "cell_type": "markdown",
   "metadata": {},
   "source": [
    "#### **Getting training && validation data**"
   ]
  },
  {
   "cell_type": "code",
   "execution_count": 5,
   "metadata": {},
   "outputs": [
    {
     "name": "stdout",
     "output_type": "stream",
     "text": [
      "Conjuntos de treinamento e teste separados!\n"
     ]
    }
   ],
   "source": [
    "table = pd.read_csv('./databases/dermatology.csv')\n",
    "\n",
    "data = np.array(table)\n",
    "\n",
    "data = data[:, 1:]\n",
    "\n",
    "labels = []\n",
    "for line in range(data.shape[0]):\n",
    "  if(labels.count(data[line, data.shape[1]-1])==0):\n",
    "    labels.append(data[line, data.shape[1]-1])\n",
    "\n",
    "scaler = StandardScaler()\n",
    "\n",
    "y = np.array(pd.get_dummies(data[:, data.shape[1]-1])).astype(np.float32)\n",
    "X = (data[:, :(data.shape[1]-1)]).astype(np.float32)\n",
    "\n",
    "scaler.fit(X) \n",
    "\n",
    "X_train_val, X_test, y_train_val, y_test = train_test_split(X, y, test_size=0.2)\n",
    "X_train, X_val, y_train, y_val = train_test_split(X_train_val, y_train_val, test_size=0.25)\n",
    "print('Conjuntos de treinamento e teste separados!')"
   ]
  },
  {
   "cell_type": "markdown",
   "metadata": {},
   "source": [
    "#### **Getting training && validation data**"
   ]
  },
  {
   "cell_type": "code",
   "execution_count": 6,
   "metadata": {},
   "outputs": [
    {
     "name": "stdout",
     "output_type": "stream",
     "text": [
      "Conjuntos de treinamento e teste separados!\n"
     ]
    }
   ],
   "source": [
    "table = pd.read_csv('databases/dermatology.csv')\n",
    "\n",
    "data = np.array(table)\n",
    "\n",
    "data = data[:, 1:]\n",
    "\n",
    "labels = []\n",
    "for line in range(data.shape[0]):\n",
    "  if(labels.count(data[line, data.shape[1]-1])==0):\n",
    "    labels.append(data[line, data.shape[1]-1])\n",
    "\n",
    "scaler = StandardScaler()\n",
    "\n",
    "y = np.array(pd.get_dummies(data[:, data.shape[1]-1])).astype(np.float32)\n",
    "x = (data[:, :(data.shape[1]-1)]).astype(np.float32)\n",
    "\n",
    "scaler.fit(x) \n",
    "\n",
    "train_x, test_x, train_y, test_y = train_test_split(x,y, test_size=0.25) \n",
    "\n",
    "print('Conjuntos de treinamento e teste separados!')"
   ]
  },
  {
   "attachments": {},
   "cell_type": "markdown",
   "metadata": {},
   "source": [
    "#### **Parameters selection**"
   ]
  },
  {
   "cell_type": "code",
   "execution_count": 7,
   "metadata": {},
   "outputs": [],
   "source": [
    "def objective(trial):\n",
    "    model = RandomForestClassifier(\n",
    "        n_estimators=trial.suggest_int('n_estimators', 10, 100),\n",
    "        max_depth=trial.suggest_int('max_depth', 5, 50),\n",
    "        max_features=trial.suggest_categorical('max_features', ['sqrt', 'log2']),\n",
    "        criterion=trial.suggest_categorical('criterion', ['gini', 'entropy']),\n",
    "        min_samples_split=trial.suggest_int('min_samples_split', 2, 10),\n",
    "        min_samples_leaf=trial.suggest_int('min_samples_leaf', 1, 10)\n",
    "    )\n",
    "\n",
    "    model.fit(X_train, y_train)\n",
    "\n",
    "    y_pred = model.predict(X_val)\n",
    "\n",
    "    accuracy = accuracy_score(y_val, y_pred)\n",
    "\n",
    "    return 1 - accuracy"
   ]
  },
  {
   "cell_type": "code",
   "execution_count": 8,
   "metadata": {},
   "outputs": [
    {
     "name": "stderr",
     "output_type": "stream",
     "text": [
      "\u001b[32m[I 2023-04-19 00:17:43,343]\u001b[0m A new study created in memory with name: no-name-e9948058-a934-4365-ab8a-1e65196352f9\u001b[0m\n",
      "\u001b[32m[I 2023-04-19 00:17:43,458]\u001b[0m Trial 0 finished with value: 0.26027397260273977 and parameters: {'n_estimators': 60, 'max_depth': 29, 'max_features': 'sqrt', 'criterion': 'entropy', 'min_samples_split': 10, 'min_samples_leaf': 10}. Best is trial 0 with value: 0.26027397260273977.\u001b[0m\n",
      "\u001b[32m[I 2023-04-19 00:17:43,560]\u001b[0m Trial 1 finished with value: 0.15068493150684936 and parameters: {'n_estimators': 71, 'max_depth': 30, 'max_features': 'sqrt', 'criterion': 'gini', 'min_samples_split': 5, 'min_samples_leaf': 6}. Best is trial 1 with value: 0.15068493150684936.\u001b[0m\n",
      "\u001b[32m[I 2023-04-19 00:17:43,701]\u001b[0m Trial 2 finished with value: 0.2191780821917808 and parameters: {'n_estimators': 87, 'max_depth': 48, 'max_features': 'log2', 'criterion': 'gini', 'min_samples_split': 9, 'min_samples_leaf': 10}. Best is trial 1 with value: 0.15068493150684936.\u001b[0m\n",
      "\u001b[32m[I 2023-04-19 00:17:43,842]\u001b[0m Trial 3 finished with value: 0.12328767123287676 and parameters: {'n_estimators': 91, 'max_depth': 47, 'max_features': 'sqrt', 'criterion': 'gini', 'min_samples_split': 5, 'min_samples_leaf': 4}. Best is trial 3 with value: 0.12328767123287676.\u001b[0m\n",
      "\u001b[32m[I 2023-04-19 00:17:43,986]\u001b[0m Trial 4 finished with value: 0.23287671232876717 and parameters: {'n_estimators': 98, 'max_depth': 31, 'max_features': 'log2', 'criterion': 'gini', 'min_samples_split': 10, 'min_samples_leaf': 9}. Best is trial 3 with value: 0.12328767123287676.\u001b[0m\n",
      "\u001b[32m[I 2023-04-19 00:17:44,064]\u001b[0m Trial 5 finished with value: 0.15068493150684936 and parameters: {'n_estimators': 55, 'max_depth': 13, 'max_features': 'log2', 'criterion': 'entropy', 'min_samples_split': 8, 'min_samples_leaf': 5}. Best is trial 3 with value: 0.12328767123287676.\u001b[0m\n",
      "\u001b[32m[I 2023-04-19 00:17:44,191]\u001b[0m Trial 6 finished with value: 0.1095890410958904 and parameters: {'n_estimators': 77, 'max_depth': 15, 'max_features': 'log2', 'criterion': 'gini', 'min_samples_split': 7, 'min_samples_leaf': 2}. Best is trial 6 with value: 0.1095890410958904.\u001b[0m\n",
      "\u001b[32m[I 2023-04-19 00:17:44,291]\u001b[0m Trial 7 finished with value: 0.1095890410958904 and parameters: {'n_estimators': 67, 'max_depth': 28, 'max_features': 'sqrt', 'criterion': 'gini', 'min_samples_split': 5, 'min_samples_leaf': 2}. Best is trial 6 with value: 0.1095890410958904.\u001b[0m\n",
      "\u001b[32m[I 2023-04-19 00:17:44,405]\u001b[0m Trial 8 finished with value: 0.26027397260273977 and parameters: {'n_estimators': 83, 'max_depth': 10, 'max_features': 'log2', 'criterion': 'entropy', 'min_samples_split': 5, 'min_samples_leaf': 10}. Best is trial 6 with value: 0.1095890410958904.\u001b[0m\n",
      "\u001b[32m[I 2023-04-19 00:17:44,549]\u001b[0m Trial 9 finished with value: 0.20547945205479456 and parameters: {'n_estimators': 92, 'max_depth': 13, 'max_features': 'log2', 'criterion': 'gini', 'min_samples_split': 3, 'min_samples_leaf': 8}. Best is trial 6 with value: 0.1095890410958904.\u001b[0m\n",
      "\u001b[32m[I 2023-04-19 00:17:44,604]\u001b[0m Trial 10 finished with value: 0.1917808219178082 and parameters: {'n_estimators': 25, 'max_depth': 5, 'max_features': 'log2', 'criterion': 'entropy', 'min_samples_split': 7, 'min_samples_leaf': 1}. Best is trial 6 with value: 0.1095890410958904.\u001b[0m\n",
      "\u001b[32m[I 2023-04-19 00:17:44,677]\u001b[0m Trial 11 finished with value: 0.09589041095890416 and parameters: {'n_estimators': 43, 'max_depth': 22, 'max_features': 'sqrt', 'criterion': 'gini', 'min_samples_split': 2, 'min_samples_leaf': 1}. Best is trial 11 with value: 0.09589041095890416.\u001b[0m\n",
      "\u001b[32m[I 2023-04-19 00:17:44,751]\u001b[0m Trial 12 finished with value: 0.1095890410958904 and parameters: {'n_estimators': 39, 'max_depth': 20, 'max_features': 'sqrt', 'criterion': 'gini', 'min_samples_split': 2, 'min_samples_leaf': 3}. Best is trial 11 with value: 0.09589041095890416.\u001b[0m\n",
      "\u001b[32m[I 2023-04-19 00:17:44,840]\u001b[0m Trial 13 finished with value: 0.12328767123287676 and parameters: {'n_estimators': 42, 'max_depth': 38, 'max_features': 'sqrt', 'criterion': 'gini', 'min_samples_split': 7, 'min_samples_leaf': 1}. Best is trial 11 with value: 0.09589041095890416.\u001b[0m\n",
      "\u001b[32m[I 2023-04-19 00:17:44,891]\u001b[0m Trial 14 finished with value: 0.136986301369863 and parameters: {'n_estimators': 13, 'max_depth': 20, 'max_features': 'sqrt', 'criterion': 'gini', 'min_samples_split': 3, 'min_samples_leaf': 3}. Best is trial 11 with value: 0.09589041095890416.\u001b[0m\n",
      "\u001b[32m[I 2023-04-19 00:17:44,991]\u001b[0m Trial 15 finished with value: 0.15068493150684936 and parameters: {'n_estimators': 47, 'max_depth': 18, 'max_features': 'log2', 'criterion': 'gini', 'min_samples_split': 7, 'min_samples_leaf': 6}. Best is trial 11 with value: 0.09589041095890416.\u001b[0m\n",
      "\u001b[32m[I 2023-04-19 00:17:45,056]\u001b[0m Trial 16 finished with value: 0.136986301369863 and parameters: {'n_estimators': 30, 'max_depth': 23, 'max_features': 'log2', 'criterion': 'gini', 'min_samples_split': 2, 'min_samples_leaf': 2}. Best is trial 11 with value: 0.09589041095890416.\u001b[0m\n",
      "\u001b[32m[I 2023-04-19 00:17:45,235]\u001b[0m Trial 17 finished with value: 0.0821917808219178 and parameters: {'n_estimators': 72, 'max_depth': 36, 'max_features': 'sqrt', 'criterion': 'gini', 'min_samples_split': 4, 'min_samples_leaf': 1}. Best is trial 17 with value: 0.0821917808219178.\u001b[0m\n",
      "\u001b[32m[I 2023-04-19 00:17:45,350]\u001b[0m Trial 18 finished with value: 0.136986301369863 and parameters: {'n_estimators': 61, 'max_depth': 38, 'max_features': 'sqrt', 'criterion': 'entropy', 'min_samples_split': 3, 'min_samples_leaf': 4}. Best is trial 17 with value: 0.0821917808219178.\u001b[0m\n",
      "\u001b[32m[I 2023-04-19 00:17:45,431]\u001b[0m Trial 19 finished with value: 0.1095890410958904 and parameters: {'n_estimators': 49, 'max_depth': 37, 'max_features': 'sqrt', 'criterion': 'gini', 'min_samples_split': 4, 'min_samples_leaf': 7}. Best is trial 17 with value: 0.0821917808219178.\u001b[0m\n",
      "\u001b[32m[I 2023-04-19 00:17:45,521]\u001b[0m Trial 20 finished with value: 0.0547945205479452 and parameters: {'n_estimators': 31, 'max_depth': 44, 'max_features': 'sqrt', 'criterion': 'gini', 'min_samples_split': 4, 'min_samples_leaf': 1}. Best is trial 20 with value: 0.0547945205479452.\u001b[0m\n",
      "\u001b[32m[I 2023-04-19 00:17:45,612]\u001b[0m Trial 21 finished with value: 0.09589041095890416 and parameters: {'n_estimators': 30, 'max_depth': 42, 'max_features': 'sqrt', 'criterion': 'gini', 'min_samples_split': 4, 'min_samples_leaf': 1}. Best is trial 20 with value: 0.0547945205479452.\u001b[0m\n",
      "\u001b[32m[I 2023-04-19 00:17:45,654]\u001b[0m Trial 22 finished with value: 0.1095890410958904 and parameters: {'n_estimators': 16, 'max_depth': 34, 'max_features': 'sqrt', 'criterion': 'gini', 'min_samples_split': 4, 'min_samples_leaf': 3}. Best is trial 20 with value: 0.0547945205479452.\u001b[0m\n",
      "\u001b[32m[I 2023-04-19 00:17:45,735]\u001b[0m Trial 23 finished with value: 0.0821917808219178 and parameters: {'n_estimators': 36, 'max_depth': 44, 'max_features': 'sqrt', 'criterion': 'gini', 'min_samples_split': 2, 'min_samples_leaf': 1}. Best is trial 20 with value: 0.0547945205479452.\u001b[0m\n",
      "\u001b[32m[I 2023-04-19 00:17:45,789]\u001b[0m Trial 24 finished with value: 0.1095890410958904 and parameters: {'n_estimators': 21, 'max_depth': 43, 'max_features': 'sqrt', 'criterion': 'gini', 'min_samples_split': 3, 'min_samples_leaf': 2}. Best is trial 20 with value: 0.0547945205479452.\u001b[0m\n",
      "\u001b[32m[I 2023-04-19 00:17:45,896]\u001b[0m Trial 25 finished with value: 0.15068493150684936 and parameters: {'n_estimators': 34, 'max_depth': 44, 'max_features': 'sqrt', 'criterion': 'gini', 'min_samples_split': 6, 'min_samples_leaf': 4}. Best is trial 20 with value: 0.0547945205479452.\u001b[0m\n",
      "\u001b[32m[I 2023-04-19 00:17:46,013]\u001b[0m Trial 26 finished with value: 0.0821917808219178 and parameters: {'n_estimators': 53, 'max_depth': 41, 'max_features': 'sqrt', 'criterion': 'entropy', 'min_samples_split': 4, 'min_samples_leaf': 1}. Best is trial 20 with value: 0.0547945205479452.\u001b[0m\n",
      "\u001b[32m[I 2023-04-19 00:17:46,085]\u001b[0m Trial 27 finished with value: 0.1095890410958904 and parameters: {'n_estimators': 37, 'max_depth': 46, 'max_features': 'sqrt', 'criterion': 'gini', 'min_samples_split': 2, 'min_samples_leaf': 3}. Best is trial 20 with value: 0.0547945205479452.\u001b[0m\n",
      "\u001b[32m[I 2023-04-19 00:17:46,164]\u001b[0m Trial 28 finished with value: 0.06849315068493156 and parameters: {'n_estimators': 21, 'max_depth': 50, 'max_features': 'sqrt', 'criterion': 'gini', 'min_samples_split': 6, 'min_samples_leaf': 2}. Best is trial 20 with value: 0.0547945205479452.\u001b[0m\n",
      "\u001b[32m[I 2023-04-19 00:17:46,238]\u001b[0m Trial 29 finished with value: 0.09589041095890416 and parameters: {'n_estimators': 21, 'max_depth': 33, 'max_features': 'sqrt', 'criterion': 'entropy', 'min_samples_split': 6, 'min_samples_leaf': 2}. Best is trial 20 with value: 0.0547945205479452.\u001b[0m\n",
      "\u001b[32m[I 2023-04-19 00:17:46,276]\u001b[0m Trial 30 finished with value: 0.12328767123287676 and parameters: {'n_estimators': 12, 'max_depth': 49, 'max_features': 'sqrt', 'criterion': 'gini', 'min_samples_split': 6, 'min_samples_leaf': 5}. Best is trial 20 with value: 0.0547945205479452.\u001b[0m\n",
      "\u001b[32m[I 2023-04-19 00:17:46,337]\u001b[0m Trial 31 finished with value: 0.0821917808219178 and parameters: {'n_estimators': 27, 'max_depth': 40, 'max_features': 'sqrt', 'criterion': 'gini', 'min_samples_split': 4, 'min_samples_leaf': 1}. Best is trial 20 with value: 0.0547945205479452.\u001b[0m\n",
      "\u001b[32m[I 2023-04-19 00:17:46,472]\u001b[0m Trial 32 finished with value: 0.1095890410958904 and parameters: {'n_estimators': 65, 'max_depth': 50, 'max_features': 'sqrt', 'criterion': 'gini', 'min_samples_split': 5, 'min_samples_leaf': 2}. Best is trial 20 with value: 0.0547945205479452.\u001b[0m\n",
      "\u001b[32m[I 2023-04-19 00:17:46,599]\u001b[0m Trial 33 finished with value: 0.09589041095890416 and parameters: {'n_estimators': 77, 'max_depth': 45, 'max_features': 'sqrt', 'criterion': 'gini', 'min_samples_split': 8, 'min_samples_leaf': 1}. Best is trial 20 with value: 0.0547945205479452.\u001b[0m\n",
      "\u001b[32m[I 2023-04-19 00:17:46,651]\u001b[0m Trial 34 finished with value: 0.1095890410958904 and parameters: {'n_estimators': 19, 'max_depth': 50, 'max_features': 'sqrt', 'criterion': 'gini', 'min_samples_split': 3, 'min_samples_leaf': 2}. Best is trial 20 with value: 0.0547945205479452.\u001b[0m\n",
      "\u001b[32m[I 2023-04-19 00:17:46,720]\u001b[0m Trial 35 finished with value: 0.17808219178082196 and parameters: {'n_estimators': 33, 'max_depth': 47, 'max_features': 'sqrt', 'criterion': 'gini', 'min_samples_split': 5, 'min_samples_leaf': 3}. Best is trial 20 with value: 0.0547945205479452.\u001b[0m\n",
      "\u001b[32m[I 2023-04-19 00:17:46,781]\u001b[0m Trial 36 finished with value: 0.1095890410958904 and parameters: {'n_estimators': 25, 'max_depth': 35, 'max_features': 'sqrt', 'criterion': 'gini', 'min_samples_split': 6, 'min_samples_leaf': 1}. Best is trial 20 with value: 0.0547945205479452.\u001b[0m\n",
      "\u001b[32m[I 2023-04-19 00:17:46,895]\u001b[0m Trial 37 finished with value: 0.15068493150684936 and parameters: {'n_estimators': 57, 'max_depth': 40, 'max_features': 'sqrt', 'criterion': 'gini', 'min_samples_split': 10, 'min_samples_leaf': 4}. Best is trial 20 with value: 0.0547945205479452.\u001b[0m\n",
      "\u001b[32m[I 2023-04-19 00:17:47,044]\u001b[0m Trial 38 finished with value: 0.1095890410958904 and parameters: {'n_estimators': 74, 'max_depth': 44, 'max_features': 'sqrt', 'criterion': 'gini', 'min_samples_split': 9, 'min_samples_leaf': 2}. Best is trial 20 with value: 0.0547945205479452.\u001b[0m\n",
      "\u001b[32m[I 2023-04-19 00:17:47,085]\u001b[0m Trial 39 finished with value: 0.12328767123287676 and parameters: {'n_estimators': 10, 'max_depth': 30, 'max_features': 'sqrt', 'criterion': 'entropy', 'min_samples_split': 5, 'min_samples_leaf': 1}. Best is trial 20 with value: 0.0547945205479452.\u001b[0m\n",
      "\u001b[32m[I 2023-04-19 00:17:47,229]\u001b[0m Trial 40 finished with value: 0.136986301369863 and parameters: {'n_estimators': 81, 'max_depth': 47, 'max_features': 'sqrt', 'criterion': 'gini', 'min_samples_split': 8, 'min_samples_leaf': 5}. Best is trial 20 with value: 0.0547945205479452.\u001b[0m\n",
      "\u001b[32m[I 2023-04-19 00:17:47,326]\u001b[0m Trial 41 finished with value: 0.1095890410958904 and parameters: {'n_estimators': 49, 'max_depth': 42, 'max_features': 'sqrt', 'criterion': 'entropy', 'min_samples_split': 4, 'min_samples_leaf': 1}. Best is trial 20 with value: 0.0547945205479452.\u001b[0m\n",
      "\u001b[32m[I 2023-04-19 00:17:47,444]\u001b[0m Trial 42 finished with value: 0.12328767123287676 and parameters: {'n_estimators': 53, 'max_depth': 40, 'max_features': 'sqrt', 'criterion': 'entropy', 'min_samples_split': 4, 'min_samples_leaf': 2}. Best is trial 20 with value: 0.0547945205479452.\u001b[0m\n",
      "\u001b[32m[I 2023-04-19 00:17:47,570]\u001b[0m Trial 43 finished with value: 0.09589041095890416 and parameters: {'n_estimators': 67, 'max_depth': 48, 'max_features': 'sqrt', 'criterion': 'entropy', 'min_samples_split': 3, 'min_samples_leaf': 1}. Best is trial 20 with value: 0.0547945205479452.\u001b[0m\n",
      "\u001b[32m[I 2023-04-19 00:17:47,780]\u001b[0m Trial 44 finished with value: 0.09589041095890416 and parameters: {'n_estimators': 98, 'max_depth': 26, 'max_features': 'sqrt', 'criterion': 'entropy', 'min_samples_split': 5, 'min_samples_leaf': 1}. Best is trial 20 with value: 0.0547945205479452.\u001b[0m\n",
      "\u001b[32m[I 2023-04-19 00:17:47,870]\u001b[0m Trial 45 finished with value: 0.1095890410958904 and parameters: {'n_estimators': 45, 'max_depth': 41, 'max_features': 'log2', 'criterion': 'entropy', 'min_samples_split': 2, 'min_samples_leaf': 2}. Best is trial 20 with value: 0.0547945205479452.\u001b[0m\n",
      "\u001b[32m[I 2023-04-19 00:17:47,967]\u001b[0m Trial 46 finished with value: 0.1643835616438356 and parameters: {'n_estimators': 39, 'max_depth': 36, 'max_features': 'sqrt', 'criterion': 'entropy', 'min_samples_split': 3, 'min_samples_leaf': 8}. Best is trial 20 with value: 0.0547945205479452.\u001b[0m\n",
      "\u001b[32m[I 2023-04-19 00:17:48,094]\u001b[0m Trial 47 finished with value: 0.1095890410958904 and parameters: {'n_estimators': 53, 'max_depth': 45, 'max_features': 'sqrt', 'criterion': 'gini', 'min_samples_split': 4, 'min_samples_leaf': 3}. Best is trial 20 with value: 0.0547945205479452.\u001b[0m\n",
      "\u001b[32m[I 2023-04-19 00:17:48,273]\u001b[0m Trial 48 finished with value: 0.09589041095890416 and parameters: {'n_estimators': 89, 'max_depth': 32, 'max_features': 'log2', 'criterion': 'gini', 'min_samples_split': 6, 'min_samples_leaf': 1}. Best is trial 20 with value: 0.0547945205479452.\u001b[0m\n",
      "\u001b[32m[I 2023-04-19 00:17:48,406]\u001b[0m Trial 49 finished with value: 0.1095890410958904 and parameters: {'n_estimators': 63, 'max_depth': 38, 'max_features': 'sqrt', 'criterion': 'entropy', 'min_samples_split': 2, 'min_samples_leaf': 2}. Best is trial 20 with value: 0.0547945205479452.\u001b[0m\n",
      "\u001b[32m[I 2023-04-19 00:17:48,567]\u001b[0m Trial 50 finished with value: 0.12328767123287676 and parameters: {'n_estimators': 70, 'max_depth': 48, 'max_features': 'sqrt', 'criterion': 'gini', 'min_samples_split': 5, 'min_samples_leaf': 3}. Best is trial 20 with value: 0.0547945205479452.\u001b[0m\n",
      "\u001b[32m[I 2023-04-19 00:17:48,673]\u001b[0m Trial 51 finished with value: 0.09589041095890416 and parameters: {'n_estimators': 27, 'max_depth': 41, 'max_features': 'sqrt', 'criterion': 'gini', 'min_samples_split': 4, 'min_samples_leaf': 1}. Best is trial 20 with value: 0.0547945205479452.\u001b[0m\n",
      "\u001b[32m[I 2023-04-19 00:17:48,806]\u001b[0m Trial 52 finished with value: 0.09589041095890416 and parameters: {'n_estimators': 25, 'max_depth': 39, 'max_features': 'sqrt', 'criterion': 'gini', 'min_samples_split': 3, 'min_samples_leaf': 1}. Best is trial 20 with value: 0.0547945205479452.\u001b[0m\n",
      "\u001b[32m[I 2023-04-19 00:17:48,883]\u001b[0m Trial 53 finished with value: 0.09589041095890416 and parameters: {'n_estimators': 30, 'max_depth': 43, 'max_features': 'sqrt', 'criterion': 'gini', 'min_samples_split': 4, 'min_samples_leaf': 1}. Best is trial 20 with value: 0.0547945205479452.\u001b[0m\n",
      "\u001b[32m[I 2023-04-19 00:17:48,969]\u001b[0m Trial 54 finished with value: 0.1095890410958904 and parameters: {'n_estimators': 17, 'max_depth': 46, 'max_features': 'sqrt', 'criterion': 'gini', 'min_samples_split': 4, 'min_samples_leaf': 2}. Best is trial 20 with value: 0.0547945205479452.\u001b[0m\n",
      "\u001b[32m[I 2023-04-19 00:17:49,046]\u001b[0m Trial 55 finished with value: 0.09589041095890416 and parameters: {'n_estimators': 35, 'max_depth': 36, 'max_features': 'sqrt', 'criterion': 'gini', 'min_samples_split': 3, 'min_samples_leaf': 1}. Best is trial 20 with value: 0.0547945205479452.\u001b[0m\n",
      "\u001b[32m[I 2023-04-19 00:17:49,127]\u001b[0m Trial 56 finished with value: 0.1095890410958904 and parameters: {'n_estimators': 40, 'max_depth': 43, 'max_features': 'log2', 'criterion': 'gini', 'min_samples_split': 5, 'min_samples_leaf': 2}. Best is trial 20 with value: 0.0547945205479452.\u001b[0m\n",
      "\u001b[32m[I 2023-04-19 00:17:49,196]\u001b[0m Trial 57 finished with value: 0.0821917808219178 and parameters: {'n_estimators': 28, 'max_depth': 39, 'max_features': 'sqrt', 'criterion': 'gini', 'min_samples_split': 4, 'min_samples_leaf': 1}. Best is trial 20 with value: 0.0547945205479452.\u001b[0m\n",
      "\u001b[32m[I 2023-04-19 00:17:49,252]\u001b[0m Trial 58 finished with value: 0.2465753424657534 and parameters: {'n_estimators': 22, 'max_depth': 26, 'max_features': 'sqrt', 'criterion': 'gini', 'min_samples_split': 7, 'min_samples_leaf': 10}. Best is trial 20 with value: 0.0547945205479452.\u001b[0m\n",
      "\u001b[32m[I 2023-04-19 00:17:49,349]\u001b[0m Trial 59 finished with value: 0.09589041095890416 and parameters: {'n_estimators': 58, 'max_depth': 45, 'max_features': 'sqrt', 'criterion': 'gini', 'min_samples_split': 2, 'min_samples_leaf': 2}. Best is trial 20 with value: 0.0547945205479452.\u001b[0m\n",
      "\u001b[32m[I 2023-04-19 00:17:49,423]\u001b[0m Trial 60 finished with value: 0.12328767123287676 and parameters: {'n_estimators': 31, 'max_depth': 41, 'max_features': 'log2', 'criterion': 'entropy', 'min_samples_split': 5, 'min_samples_leaf': 1}. Best is trial 20 with value: 0.0547945205479452.\u001b[0m\n",
      "\u001b[32m[I 2023-04-19 00:17:49,490]\u001b[0m Trial 61 finished with value: 0.1095890410958904 and parameters: {'n_estimators': 27, 'max_depth': 38, 'max_features': 'sqrt', 'criterion': 'gini', 'min_samples_split': 4, 'min_samples_leaf': 1}. Best is trial 20 with value: 0.0547945205479452.\u001b[0m\n",
      "\u001b[32m[I 2023-04-19 00:17:49,573]\u001b[0m Trial 62 finished with value: 0.1095890410958904 and parameters: {'n_estimators': 36, 'max_depth': 34, 'max_features': 'sqrt', 'criterion': 'gini', 'min_samples_split': 3, 'min_samples_leaf': 1}. Best is trial 20 with value: 0.0547945205479452.\u001b[0m\n",
      "\u001b[32m[I 2023-04-19 00:17:49,617]\u001b[0m Trial 63 finished with value: 0.0821917808219178 and parameters: {'n_estimators': 15, 'max_depth': 39, 'max_features': 'sqrt', 'criterion': 'gini', 'min_samples_split': 4, 'min_samples_leaf': 1}. Best is trial 20 with value: 0.0547945205479452.\u001b[0m\n",
      "\u001b[32m[I 2023-04-19 00:17:49,690]\u001b[0m Trial 64 finished with value: 0.136986301369863 and parameters: {'n_estimators': 27, 'max_depth': 36, 'max_features': 'sqrt', 'criterion': 'gini', 'min_samples_split': 3, 'min_samples_leaf': 2}. Best is trial 20 with value: 0.0547945205479452.\u001b[0m\n",
      "\u001b[32m[I 2023-04-19 00:17:49,779]\u001b[0m Trial 65 finished with value: 0.15068493150684936 and parameters: {'n_estimators': 43, 'max_depth': 43, 'max_features': 'sqrt', 'criterion': 'gini', 'min_samples_split': 5, 'min_samples_leaf': 7}. Best is trial 20 with value: 0.0547945205479452.\u001b[0m\n",
      "\u001b[32m[I 2023-04-19 00:17:49,931]\u001b[0m Trial 66 finished with value: 0.1095890410958904 and parameters: {'n_estimators': 94, 'max_depth': 49, 'max_features': 'sqrt', 'criterion': 'gini', 'min_samples_split': 4, 'min_samples_leaf': 2}. Best is trial 20 with value: 0.0547945205479452.\u001b[0m\n",
      "\u001b[32m[I 2023-04-19 00:17:50,002]\u001b[0m Trial 67 finished with value: 0.12328767123287676 and parameters: {'n_estimators': 32, 'max_depth': 8, 'max_features': 'sqrt', 'criterion': 'gini', 'min_samples_split': 6, 'min_samples_leaf': 1}. Best is trial 20 with value: 0.0547945205479452.\u001b[0m\n",
      "\u001b[32m[I 2023-04-19 00:17:50,064]\u001b[0m Trial 68 finished with value: 0.136986301369863 and parameters: {'n_estimators': 23, 'max_depth': 40, 'max_features': 'sqrt', 'criterion': 'gini', 'min_samples_split': 5, 'min_samples_leaf': 2}. Best is trial 20 with value: 0.0547945205479452.\u001b[0m\n",
      "\u001b[32m[I 2023-04-19 00:17:50,116]\u001b[0m Trial 69 finished with value: 0.1095890410958904 and parameters: {'n_estimators': 19, 'max_depth': 46, 'max_features': 'sqrt', 'criterion': 'gini', 'min_samples_split': 4, 'min_samples_leaf': 3}. Best is trial 20 with value: 0.0547945205479452.\u001b[0m\n",
      "\u001b[32m[I 2023-04-19 00:17:50,256]\u001b[0m Trial 70 finished with value: 0.12328767123287676 and parameters: {'n_estimators': 83, 'max_depth': 44, 'max_features': 'sqrt', 'criterion': 'gini', 'min_samples_split': 9, 'min_samples_leaf': 1}. Best is trial 20 with value: 0.0547945205479452.\u001b[0m\n",
      "\u001b[32m[I 2023-04-19 00:17:50,306]\u001b[0m Trial 71 finished with value: 0.1095890410958904 and parameters: {'n_estimators': 16, 'max_depth': 38, 'max_features': 'sqrt', 'criterion': 'gini', 'min_samples_split': 4, 'min_samples_leaf': 1}. Best is trial 20 with value: 0.0547945205479452.\u001b[0m\n",
      "\u001b[32m[I 2023-04-19 00:17:50,354]\u001b[0m Trial 72 finished with value: 0.1095890410958904 and parameters: {'n_estimators': 15, 'max_depth': 39, 'max_features': 'sqrt', 'criterion': 'gini', 'min_samples_split': 3, 'min_samples_leaf': 1}. Best is trial 20 with value: 0.0547945205479452.\u001b[0m\n",
      "\u001b[32m[I 2023-04-19 00:17:50,411]\u001b[0m Trial 73 finished with value: 0.06849315068493156 and parameters: {'n_estimators': 19, 'max_depth': 34, 'max_features': 'sqrt', 'criterion': 'gini', 'min_samples_split': 4, 'min_samples_leaf': 1}. Best is trial 20 with value: 0.0547945205479452.\u001b[0m\n",
      "\u001b[32m[I 2023-04-19 00:17:50,464]\u001b[0m Trial 74 finished with value: 0.1095890410958904 and parameters: {'n_estimators': 19, 'max_depth': 31, 'max_features': 'sqrt', 'criterion': 'gini', 'min_samples_split': 4, 'min_samples_leaf': 2}. Best is trial 20 with value: 0.0547945205479452.\u001b[0m\n",
      "\u001b[32m[I 2023-04-19 00:17:50,529]\u001b[0m Trial 75 finished with value: 0.1095890410958904 and parameters: {'n_estimators': 23, 'max_depth': 34, 'max_features': 'sqrt', 'criterion': 'gini', 'min_samples_split': 6, 'min_samples_leaf': 1}. Best is trial 20 with value: 0.0547945205479452.\u001b[0m\n",
      "\u001b[32m[I 2023-04-19 00:17:50,591]\u001b[0m Trial 76 finished with value: 0.2191780821917808 and parameters: {'n_estimators': 28, 'max_depth': 42, 'max_features': 'sqrt', 'criterion': 'entropy', 'min_samples_split': 3, 'min_samples_leaf': 9}. Best is trial 20 with value: 0.0547945205479452.\u001b[0m\n",
      "\u001b[32m[I 2023-04-19 00:17:50,676]\u001b[0m Trial 77 finished with value: 0.1095890410958904 and parameters: {'n_estimators': 38, 'max_depth': 28, 'max_features': 'sqrt', 'criterion': 'gini', 'min_samples_split': 7, 'min_samples_leaf': 1}. Best is trial 20 with value: 0.0547945205479452.\u001b[0m\n",
      "\u001b[32m[I 2023-04-19 00:17:50,724]\u001b[0m Trial 78 finished with value: 0.09589041095890416 and parameters: {'n_estimators': 11, 'max_depth': 37, 'max_features': 'log2', 'criterion': 'gini', 'min_samples_split': 4, 'min_samples_leaf': 2}. Best is trial 20 with value: 0.0547945205479452.\u001b[0m\n",
      "\u001b[32m[I 2023-04-19 00:17:50,807]\u001b[0m Trial 79 finished with value: 0.09589041095890416 and parameters: {'n_estimators': 35, 'max_depth': 32, 'max_features': 'sqrt', 'criterion': 'entropy', 'min_samples_split': 5, 'min_samples_leaf': 2}. Best is trial 20 with value: 0.0547945205479452.\u001b[0m\n",
      "\u001b[32m[I 2023-04-19 00:17:50,873]\u001b[0m Trial 80 finished with value: 0.0821917808219178 and parameters: {'n_estimators': 25, 'max_depth': 35, 'max_features': 'sqrt', 'criterion': 'gini', 'min_samples_split': 2, 'min_samples_leaf': 1}. Best is trial 20 with value: 0.0547945205479452.\u001b[0m\n",
      "\u001b[32m[I 2023-04-19 00:17:50,921]\u001b[0m Trial 81 finished with value: 0.15068493150684936 and parameters: {'n_estimators': 14, 'max_depth': 40, 'max_features': 'sqrt', 'criterion': 'gini', 'min_samples_split': 4, 'min_samples_leaf': 1}. Best is trial 20 with value: 0.0547945205479452.\u001b[0m\n",
      "\u001b[32m[I 2023-04-19 00:17:50,980]\u001b[0m Trial 82 finished with value: 0.1095890410958904 and parameters: {'n_estimators': 18, 'max_depth': 37, 'max_features': 'sqrt', 'criterion': 'gini', 'min_samples_split': 4, 'min_samples_leaf': 1}. Best is trial 20 with value: 0.0547945205479452.\u001b[0m\n",
      "\u001b[32m[I 2023-04-19 00:17:51,038]\u001b[0m Trial 83 finished with value: 0.09589041095890416 and parameters: {'n_estimators': 21, 'max_depth': 39, 'max_features': 'sqrt', 'criterion': 'gini', 'min_samples_split': 3, 'min_samples_leaf': 1}. Best is trial 20 with value: 0.0547945205479452.\u001b[0m\n",
      "\u001b[32m[I 2023-04-19 00:17:51,107]\u001b[0m Trial 84 finished with value: 0.09589041095890416 and parameters: {'n_estimators': 29, 'max_depth': 44, 'max_features': 'sqrt', 'criterion': 'gini', 'min_samples_split': 4, 'min_samples_leaf': 1}. Best is trial 20 with value: 0.0547945205479452.\u001b[0m\n",
      "\u001b[32m[I 2023-04-19 00:17:51,152]\u001b[0m Trial 85 finished with value: 0.12328767123287676 and parameters: {'n_estimators': 13, 'max_depth': 42, 'max_features': 'sqrt', 'criterion': 'gini', 'min_samples_split': 5, 'min_samples_leaf': 2}. Best is trial 20 with value: 0.0547945205479452.\u001b[0m\n",
      "\u001b[32m[I 2023-04-19 00:17:51,224]\u001b[0m Trial 86 finished with value: 0.0821917808219178 and parameters: {'n_estimators': 33, 'max_depth': 41, 'max_features': 'sqrt', 'criterion': 'gini', 'min_samples_split': 5, 'min_samples_leaf': 1}. Best is trial 20 with value: 0.0547945205479452.\u001b[0m\n",
      "\u001b[32m[I 2023-04-19 00:17:51,291]\u001b[0m Trial 87 finished with value: 0.09589041095890416 and parameters: {'n_estimators': 24, 'max_depth': 47, 'max_features': 'sqrt', 'criterion': 'entropy', 'min_samples_split': 3, 'min_samples_leaf': 2}. Best is trial 20 with value: 0.0547945205479452.\u001b[0m\n",
      "\u001b[32m[I 2023-04-19 00:17:51,388]\u001b[0m Trial 88 finished with value: 0.1643835616438356 and parameters: {'n_estimators': 51, 'max_depth': 39, 'max_features': 'sqrt', 'criterion': 'gini', 'min_samples_split': 4, 'min_samples_leaf': 6}. Best is trial 20 with value: 0.0547945205479452.\u001b[0m\n",
      "\u001b[32m[I 2023-04-19 00:17:51,478]\u001b[0m Trial 89 finished with value: 0.06849315068493156 and parameters: {'n_estimators': 41, 'max_depth': 35, 'max_features': 'sqrt', 'criterion': 'gini', 'min_samples_split': 4, 'min_samples_leaf': 1}. Best is trial 20 with value: 0.0547945205479452.\u001b[0m\n",
      "\u001b[32m[I 2023-04-19 00:17:51,564]\u001b[0m Trial 90 finished with value: 0.09589041095890416 and parameters: {'n_estimators': 41, 'max_depth': 35, 'max_features': 'sqrt', 'criterion': 'gini', 'min_samples_split': 3, 'min_samples_leaf': 3}. Best is trial 20 with value: 0.0547945205479452.\u001b[0m\n",
      "\u001b[32m[I 2023-04-19 00:17:51,620]\u001b[0m Trial 91 finished with value: 0.09589041095890416 and parameters: {'n_estimators': 20, 'max_depth': 33, 'max_features': 'sqrt', 'criterion': 'gini', 'min_samples_split': 8, 'min_samples_leaf': 1}. Best is trial 20 with value: 0.0547945205479452.\u001b[0m\n",
      "\u001b[32m[I 2023-04-19 00:17:51,711]\u001b[0m Trial 92 finished with value: 0.09589041095890416 and parameters: {'n_estimators': 44, 'max_depth': 37, 'max_features': 'sqrt', 'criterion': 'gini', 'min_samples_split': 4, 'min_samples_leaf': 1}. Best is trial 20 with value: 0.0547945205479452.\u001b[0m\n",
      "\u001b[32m[I 2023-04-19 00:17:51,785]\u001b[0m Trial 93 finished with value: 0.1095890410958904 and parameters: {'n_estimators': 31, 'max_depth': 36, 'max_features': 'sqrt', 'criterion': 'gini', 'min_samples_split': 4, 'min_samples_leaf': 1}. Best is trial 20 with value: 0.0547945205479452.\u001b[0m\n",
      "\u001b[32m[I 2023-04-19 00:17:51,873]\u001b[0m Trial 94 finished with value: 0.1095890410958904 and parameters: {'n_estimators': 47, 'max_depth': 29, 'max_features': 'sqrt', 'criterion': 'gini', 'min_samples_split': 4, 'min_samples_leaf': 2}. Best is trial 20 with value: 0.0547945205479452.\u001b[0m\n",
      "\u001b[32m[I 2023-04-19 00:17:51,936]\u001b[0m Trial 95 finished with value: 0.09589041095890416 and parameters: {'n_estimators': 26, 'max_depth': 40, 'max_features': 'log2', 'criterion': 'gini', 'min_samples_split': 5, 'min_samples_leaf': 1}. Best is trial 20 with value: 0.0547945205479452.\u001b[0m\n",
      "\u001b[32m[I 2023-04-19 00:17:52,082]\u001b[0m Trial 96 finished with value: 0.09589041095890416 and parameters: {'n_estimators': 59, 'max_depth': 33, 'max_features': 'sqrt', 'criterion': 'gini', 'min_samples_split': 4, 'min_samples_leaf': 1}. Best is trial 20 with value: 0.0547945205479452.\u001b[0m\n",
      "\u001b[32m[I 2023-04-19 00:17:52,208]\u001b[0m Trial 97 finished with value: 0.0821917808219178 and parameters: {'n_estimators': 70, 'max_depth': 45, 'max_features': 'sqrt', 'criterion': 'entropy', 'min_samples_split': 4, 'min_samples_leaf': 2}. Best is trial 20 with value: 0.0547945205479452.\u001b[0m\n",
      "\u001b[32m[I 2023-04-19 00:17:52,291]\u001b[0m Trial 98 finished with value: 0.09589041095890416 and parameters: {'n_estimators': 37, 'max_depth': 42, 'max_features': 'sqrt', 'criterion': 'gini', 'min_samples_split': 5, 'min_samples_leaf': 1}. Best is trial 20 with value: 0.0547945205479452.\u001b[0m\n",
      "\u001b[32m[I 2023-04-19 00:17:52,406]\u001b[0m Trial 99 finished with value: 0.0821917808219178 and parameters: {'n_estimators': 55, 'max_depth': 48, 'max_features': 'sqrt', 'criterion': 'gini', 'min_samples_split': 3, 'min_samples_leaf': 2}. Best is trial 20 with value: 0.0547945205479452.\u001b[0m\n",
      "\u001b[32m[I 2023-04-19 00:17:52,539]\u001b[0m Trial 100 finished with value: 0.09589041095890416 and parameters: {'n_estimators': 74, 'max_depth': 50, 'max_features': 'sqrt', 'criterion': 'gini', 'min_samples_split': 4, 'min_samples_leaf': 1}. Best is trial 20 with value: 0.0547945205479452.\u001b[0m\n",
      "\u001b[32m[I 2023-04-19 00:17:52,605]\u001b[0m Trial 101 finished with value: 0.1095890410958904 and parameters: {'n_estimators': 25, 'max_depth': 35, 'max_features': 'sqrt', 'criterion': 'gini', 'min_samples_split': 3, 'min_samples_leaf': 1}. Best is trial 20 with value: 0.0547945205479452.\u001b[0m\n",
      "\u001b[32m[I 2023-04-19 00:17:52,732]\u001b[0m Trial 102 finished with value: 0.1095890410958904 and parameters: {'n_estimators': 61, 'max_depth': 38, 'max_features': 'sqrt', 'criterion': 'gini', 'min_samples_split': 2, 'min_samples_leaf': 1}. Best is trial 20 with value: 0.0547945205479452.\u001b[0m\n",
      "\u001b[32m[I 2023-04-19 00:17:52,818]\u001b[0m Trial 103 finished with value: 0.09589041095890416 and parameters: {'n_estimators': 29, 'max_depth': 36, 'max_features': 'sqrt', 'criterion': 'gini', 'min_samples_split': 2, 'min_samples_leaf': 1}. Best is trial 20 with value: 0.0547945205479452.\u001b[0m\n",
      "\u001b[32m[I 2023-04-19 00:17:52,897]\u001b[0m Trial 104 finished with value: 0.1095890410958904 and parameters: {'n_estimators': 33, 'max_depth': 34, 'max_features': 'sqrt', 'criterion': 'gini', 'min_samples_split': 2, 'min_samples_leaf': 1}. Best is trial 20 with value: 0.0547945205479452.\u001b[0m\n",
      "\u001b[32m[I 2023-04-19 00:17:52,957]\u001b[0m Trial 105 finished with value: 0.09589041095890416 and parameters: {'n_estimators': 22, 'max_depth': 31, 'max_features': 'sqrt', 'criterion': 'gini', 'min_samples_split': 2, 'min_samples_leaf': 1}. Best is trial 20 with value: 0.0547945205479452.\u001b[0m\n",
      "\u001b[32m[I 2023-04-19 00:17:53,009]\u001b[0m Trial 106 finished with value: 0.12328767123287676 and parameters: {'n_estimators': 16, 'max_depth': 43, 'max_features': 'sqrt', 'criterion': 'gini', 'min_samples_split': 2, 'min_samples_leaf': 1}. Best is trial 20 with value: 0.0547945205479452.\u001b[0m\n",
      "\u001b[32m[I 2023-04-19 00:17:53,098]\u001b[0m Trial 107 finished with value: 0.0821917808219178 and parameters: {'n_estimators': 46, 'max_depth': 37, 'max_features': 'sqrt', 'criterion': 'entropy', 'min_samples_split': 4, 'min_samples_leaf': 2}. Best is trial 20 with value: 0.0547945205479452.\u001b[0m\n",
      "\u001b[32m[I 2023-04-19 00:17:53,163]\u001b[0m Trial 108 finished with value: 0.1095890410958904 and parameters: {'n_estimators': 24, 'max_depth': 39, 'max_features': 'sqrt', 'criterion': 'gini', 'min_samples_split': 3, 'min_samples_leaf': 1}. Best is trial 20 with value: 0.0547945205479452.\u001b[0m\n",
      "\u001b[32m[I 2023-04-19 00:17:53,229]\u001b[0m Trial 109 finished with value: 0.0821917808219178 and parameters: {'n_estimators': 28, 'max_depth': 41, 'max_features': 'log2', 'criterion': 'gini', 'min_samples_split': 4, 'min_samples_leaf': 1}. Best is trial 20 with value: 0.0547945205479452.\u001b[0m\n",
      "\u001b[32m[I 2023-04-19 00:17:53,283]\u001b[0m Trial 110 finished with value: 0.1095890410958904 and parameters: {'n_estimators': 18, 'max_depth': 35, 'max_features': 'sqrt', 'criterion': 'gini', 'min_samples_split': 2, 'min_samples_leaf': 2}. Best is trial 20 with value: 0.0547945205479452.\u001b[0m\n",
      "\u001b[32m[I 2023-04-19 00:17:53,353]\u001b[0m Trial 111 finished with value: 0.0821917808219178 and parameters: {'n_estimators': 33, 'max_depth': 41, 'max_features': 'sqrt', 'criterion': 'gini', 'min_samples_split': 6, 'min_samples_leaf': 1}. Best is trial 20 with value: 0.0547945205479452.\u001b[0m\n",
      "\u001b[32m[I 2023-04-19 00:17:53,433]\u001b[0m Trial 112 finished with value: 0.1095890410958904 and parameters: {'n_estimators': 35, 'max_depth': 40, 'max_features': 'sqrt', 'criterion': 'gini', 'min_samples_split': 5, 'min_samples_leaf': 1}. Best is trial 20 with value: 0.0547945205479452.\u001b[0m\n",
      "\u001b[32m[I 2023-04-19 00:17:53,499]\u001b[0m Trial 113 finished with value: 0.1643835616438356 and parameters: {'n_estimators': 31, 'max_depth': 16, 'max_features': 'sqrt', 'criterion': 'gini', 'min_samples_split': 7, 'min_samples_leaf': 4}. Best is trial 20 with value: 0.0547945205479452.\u001b[0m\n",
      "\u001b[32m[I 2023-04-19 00:17:53,585]\u001b[0m Trial 114 finished with value: 0.15068493150684936 and parameters: {'n_estimators': 39, 'max_depth': 38, 'max_features': 'sqrt', 'criterion': 'gini', 'min_samples_split': 5, 'min_samples_leaf': 1}. Best is trial 20 with value: 0.0547945205479452.\u001b[0m\n",
      "\u001b[32m[I 2023-04-19 00:17:53,674]\u001b[0m Trial 115 finished with value: 0.1095890410958904 and parameters: {'n_estimators': 42, 'max_depth': 44, 'max_features': 'sqrt', 'criterion': 'gini', 'min_samples_split': 5, 'min_samples_leaf': 1}. Best is trial 20 with value: 0.0547945205479452.\u001b[0m\n",
      "\u001b[32m[I 2023-04-19 00:17:53,755]\u001b[0m Trial 116 finished with value: 0.1095890410958904 and parameters: {'n_estimators': 34, 'max_depth': 46, 'max_features': 'sqrt', 'criterion': 'gini', 'min_samples_split': 4, 'min_samples_leaf': 1}. Best is trial 20 with value: 0.0547945205479452.\u001b[0m\n",
      "\u001b[32m[I 2023-04-19 00:17:53,870]\u001b[0m Trial 117 finished with value: 0.12328767123287676 and parameters: {'n_estimators': 64, 'max_depth': 41, 'max_features': 'sqrt', 'criterion': 'entropy', 'min_samples_split': 6, 'min_samples_leaf': 2}. Best is trial 20 with value: 0.0547945205479452.\u001b[0m\n",
      "\u001b[32m[I 2023-04-19 00:17:53,945]\u001b[0m Trial 118 finished with value: 0.12328767123287676 and parameters: {'n_estimators': 26, 'max_depth': 42, 'max_features': 'sqrt', 'criterion': 'gini', 'min_samples_split': 4, 'min_samples_leaf': 1}. Best is trial 20 with value: 0.0547945205479452.\u001b[0m\n",
      "\u001b[32m[I 2023-04-19 00:17:54,013]\u001b[0m Trial 119 finished with value: 0.15068493150684936 and parameters: {'n_estimators': 29, 'max_depth': 26, 'max_features': 'sqrt', 'criterion': 'gini', 'min_samples_split': 5, 'min_samples_leaf': 5}. Best is trial 20 with value: 0.0547945205479452.\u001b[0m\n",
      "\u001b[32m[I 2023-04-19 00:17:54,091]\u001b[0m Trial 120 finished with value: 0.1095890410958904 and parameters: {'n_estimators': 37, 'max_depth': 39, 'max_features': 'sqrt', 'criterion': 'gini', 'min_samples_split': 4, 'min_samples_leaf': 2}. Best is trial 20 with value: 0.0547945205479452.\u001b[0m\n",
      "\u001b[32m[I 2023-04-19 00:17:54,212]\u001b[0m Trial 121 finished with value: 0.1095890410958904 and parameters: {'n_estimators': 70, 'max_depth': 45, 'max_features': 'sqrt', 'criterion': 'entropy', 'min_samples_split': 4, 'min_samples_leaf': 3}. Best is trial 20 with value: 0.0547945205479452.\u001b[0m\n",
      "\u001b[32m[I 2023-04-19 00:17:54,347]\u001b[0m Trial 122 finished with value: 0.1095890410958904 and parameters: {'n_estimators': 79, 'max_depth': 45, 'max_features': 'sqrt', 'criterion': 'entropy', 'min_samples_split': 4, 'min_samples_leaf': 1}. Best is trial 20 with value: 0.0547945205479452.\u001b[0m\n",
      "\u001b[32m[I 2023-04-19 00:17:54,496]\u001b[0m Trial 123 finished with value: 0.09589041095890416 and parameters: {'n_estimators': 73, 'max_depth': 44, 'max_features': 'sqrt', 'criterion': 'entropy', 'min_samples_split': 4, 'min_samples_leaf': 2}. Best is trial 20 with value: 0.0547945205479452.\u001b[0m\n",
      "\u001b[32m[I 2023-04-19 00:17:54,643]\u001b[0m Trial 124 finished with value: 0.09589041095890416 and parameters: {'n_estimators': 69, 'max_depth': 43, 'max_features': 'sqrt', 'criterion': 'entropy', 'min_samples_split': 4, 'min_samples_leaf': 1}. Best is trial 20 with value: 0.0547945205479452.\u001b[0m\n",
      "\u001b[32m[I 2023-04-19 00:17:54,779]\u001b[0m Trial 125 finished with value: 0.09589041095890416 and parameters: {'n_estimators': 66, 'max_depth': 37, 'max_features': 'sqrt', 'criterion': 'entropy', 'min_samples_split': 3, 'min_samples_leaf': 1}. Best is trial 20 with value: 0.0547945205479452.\u001b[0m\n",
      "\u001b[32m[I 2023-04-19 00:17:54,834]\u001b[0m Trial 126 finished with value: 0.136986301369863 and parameters: {'n_estimators': 21, 'max_depth': 40, 'max_features': 'sqrt', 'criterion': 'entropy', 'min_samples_split': 4, 'min_samples_leaf': 2}. Best is trial 20 with value: 0.0547945205479452.\u001b[0m\n",
      "\u001b[32m[I 2023-04-19 00:17:54,878]\u001b[0m Trial 127 finished with value: 0.12328767123287676 and parameters: {'n_estimators': 10, 'max_depth': 49, 'max_features': 'sqrt', 'criterion': 'gini', 'min_samples_split': 5, 'min_samples_leaf': 1}. Best is trial 20 with value: 0.0547945205479452.\u001b[0m\n",
      "\u001b[32m[I 2023-04-19 00:17:54,986]\u001b[0m Trial 128 finished with value: 0.12328767123287676 and parameters: {'n_estimators': 49, 'max_depth': 42, 'max_features': 'sqrt', 'criterion': 'gini', 'min_samples_split': 4, 'min_samples_leaf': 1}. Best is trial 20 with value: 0.0547945205479452.\u001b[0m\n",
      "\u001b[32m[I 2023-04-19 00:17:55,116]\u001b[0m Trial 129 finished with value: 0.1095890410958904 and parameters: {'n_estimators': 77, 'max_depth': 47, 'max_features': 'log2', 'criterion': 'gini', 'min_samples_split': 6, 'min_samples_leaf': 2}. Best is trial 20 with value: 0.0547945205479452.\u001b[0m\n",
      "\u001b[32m[I 2023-04-19 00:17:55,185]\u001b[0m Trial 130 finished with value: 0.0821917808219178 and parameters: {'n_estimators': 32, 'max_depth': 32, 'max_features': 'sqrt', 'criterion': 'gini', 'min_samples_split': 5, 'min_samples_leaf': 1}. Best is trial 20 with value: 0.0547945205479452.\u001b[0m\n",
      "\u001b[32m[I 2023-04-19 00:17:55,288]\u001b[0m Trial 131 finished with value: 0.09589041095890416 and parameters: {'n_estimators': 57, 'max_depth': 47, 'max_features': 'sqrt', 'criterion': 'gini', 'min_samples_split': 3, 'min_samples_leaf': 2}. Best is trial 20 with value: 0.0547945205479452.\u001b[0m\n",
      "\u001b[32m[I 2023-04-19 00:17:55,398]\u001b[0m Trial 132 finished with value: 0.1095890410958904 and parameters: {'n_estimators': 56, 'max_depth': 49, 'max_features': 'sqrt', 'criterion': 'gini', 'min_samples_split': 3, 'min_samples_leaf': 2}. Best is trial 20 with value: 0.0547945205479452.\u001b[0m\n",
      "\u001b[32m[I 2023-04-19 00:17:55,511]\u001b[0m Trial 133 finished with value: 0.0821917808219178 and parameters: {'n_estimators': 53, 'max_depth': 48, 'max_features': 'sqrt', 'criterion': 'gini', 'min_samples_split': 2, 'min_samples_leaf': 2}. Best is trial 20 with value: 0.0547945205479452.\u001b[0m\n",
      "\u001b[32m[I 2023-04-19 00:17:55,615]\u001b[0m Trial 134 finished with value: 0.1095890410958904 and parameters: {'n_estimators': 54, 'max_depth': 48, 'max_features': 'sqrt', 'criterion': 'gini', 'min_samples_split': 4, 'min_samples_leaf': 3}. Best is trial 20 with value: 0.0547945205479452.\u001b[0m\n",
      "\u001b[32m[I 2023-04-19 00:17:55,682]\u001b[0m Trial 135 finished with value: 0.0821917808219178 and parameters: {'n_estimators': 23, 'max_depth': 50, 'max_features': 'sqrt', 'criterion': 'gini', 'min_samples_split': 4, 'min_samples_leaf': 1}. Best is trial 20 with value: 0.0547945205479452.\u001b[0m\n",
      "\u001b[32m[I 2023-04-19 00:17:55,749]\u001b[0m Trial 136 finished with value: 0.09589041095890416 and parameters: {'n_estimators': 27, 'max_depth': 46, 'max_features': 'sqrt', 'criterion': 'gini', 'min_samples_split': 3, 'min_samples_leaf': 1}. Best is trial 20 with value: 0.0547945205479452.\u001b[0m\n",
      "\u001b[32m[I 2023-04-19 00:17:55,854]\u001b[0m Trial 137 finished with value: 0.09589041095890416 and parameters: {'n_estimators': 51, 'max_depth': 35, 'max_features': 'sqrt', 'criterion': 'entropy', 'min_samples_split': 4, 'min_samples_leaf': 1}. Best is trial 20 with value: 0.0547945205479452.\u001b[0m\n",
      "\u001b[32m[I 2023-04-19 00:17:55,992]\u001b[0m Trial 138 finished with value: 0.15068493150684936 and parameters: {'n_estimators': 68, 'max_depth': 43, 'max_features': 'sqrt', 'criterion': 'gini', 'min_samples_split': 3, 'min_samples_leaf': 6}. Best is trial 20 with value: 0.0547945205479452.\u001b[0m\n",
      "\u001b[32m[I 2023-04-19 00:17:56,122]\u001b[0m Trial 139 finished with value: 0.0821917808219178 and parameters: {'n_estimators': 62, 'max_depth': 22, 'max_features': 'sqrt', 'criterion': 'gini', 'min_samples_split': 4, 'min_samples_leaf': 1}. Best is trial 20 with value: 0.0547945205479452.\u001b[0m\n",
      "\u001b[32m[I 2023-04-19 00:17:56,181]\u001b[0m Trial 140 finished with value: 0.136986301369863 and parameters: {'n_estimators': 14, 'max_depth': 49, 'max_features': 'sqrt', 'criterion': 'gini', 'min_samples_split': 2, 'min_samples_leaf': 2}. Best is trial 20 with value: 0.0547945205479452.\u001b[0m\n",
      "\u001b[32m[I 2023-04-19 00:17:56,307]\u001b[0m Trial 141 finished with value: 0.09589041095890416 and parameters: {'n_estimators': 48, 'max_depth': 38, 'max_features': 'sqrt', 'criterion': 'entropy', 'min_samples_split': 4, 'min_samples_leaf': 2}. Best is trial 20 with value: 0.0547945205479452.\u001b[0m\n",
      "\u001b[32m[I 2023-04-19 00:17:56,424]\u001b[0m Trial 142 finished with value: 0.1095890410958904 and parameters: {'n_estimators': 46, 'max_depth': 36, 'max_features': 'sqrt', 'criterion': 'entropy', 'min_samples_split': 4, 'min_samples_leaf': 2}. Best is trial 20 with value: 0.0547945205479452.\u001b[0m\n",
      "\u001b[32m[I 2023-04-19 00:17:56,528]\u001b[0m Trial 143 finished with value: 0.12328767123287676 and parameters: {'n_estimators': 40, 'max_depth': 37, 'max_features': 'sqrt', 'criterion': 'entropy', 'min_samples_split': 4, 'min_samples_leaf': 3}. Best is trial 20 with value: 0.0547945205479452.\u001b[0m\n",
      "\u001b[32m[I 2023-04-19 00:17:56,690]\u001b[0m Trial 144 finished with value: 0.09589041095890416 and parameters: {'n_estimators': 43, 'max_depth': 34, 'max_features': 'sqrt', 'criterion': 'entropy', 'min_samples_split': 4, 'min_samples_leaf': 1}. Best is trial 20 with value: 0.0547945205479452.\u001b[0m\n",
      "\u001b[32m[I 2023-04-19 00:17:56,761]\u001b[0m Trial 145 finished with value: 0.1095890410958904 and parameters: {'n_estimators': 20, 'max_depth': 39, 'max_features': 'sqrt', 'criterion': 'entropy', 'min_samples_split': 4, 'min_samples_leaf': 2}. Best is trial 20 with value: 0.0547945205479452.\u001b[0m\n",
      "\u001b[32m[I 2023-04-19 00:17:56,886]\u001b[0m Trial 146 finished with value: 0.09589041095890416 and parameters: {'n_estimators': 55, 'max_depth': 40, 'max_features': 'sqrt', 'criterion': 'gini', 'min_samples_split': 3, 'min_samples_leaf': 1}. Best is trial 20 with value: 0.0547945205479452.\u001b[0m\n",
      "\u001b[32m[I 2023-04-19 00:17:57,011]\u001b[0m Trial 147 finished with value: 0.0821917808219178 and parameters: {'n_estimators': 45, 'max_depth': 41, 'max_features': 'sqrt', 'criterion': 'entropy', 'min_samples_split': 5, 'min_samples_leaf': 1}. Best is trial 20 with value: 0.0547945205479452.\u001b[0m\n",
      "\u001b[32m[I 2023-04-19 00:17:57,126]\u001b[0m Trial 148 finished with value: 0.1095890410958904 and parameters: {'n_estimators': 51, 'max_depth': 45, 'max_features': 'sqrt', 'criterion': 'gini', 'min_samples_split': 4, 'min_samples_leaf': 2}. Best is trial 20 with value: 0.0547945205479452.\u001b[0m\n",
      "\u001b[32m[I 2023-04-19 00:17:57,244]\u001b[0m Trial 149 finished with value: 0.1095890410958904 and parameters: {'n_estimators': 60, 'max_depth': 36, 'max_features': 'sqrt', 'criterion': 'gini', 'min_samples_split': 10, 'min_samples_leaf': 1}. Best is trial 20 with value: 0.0547945205479452.\u001b[0m\n"
     ]
    }
   ],
   "source": [
    "n_trials = 150\n",
    "\n",
    "study = optuna.create_study(direction='minimize')\n",
    "study.optimize(objective, n_trials=n_trials)"
   ]
  },
  {
   "attachments": {},
   "cell_type": "markdown",
   "metadata": {},
   "source": [
    "#### **Saving study**"
   ]
  },
  {
   "cell_type": "code",
   "execution_count": 9,
   "metadata": {},
   "outputs": [
    {
     "data": {
      "text/plain": [
       "['./optuna_studies/randomF_study.pkl']"
      ]
     },
     "execution_count": 9,
     "metadata": {},
     "output_type": "execute_result"
    }
   ],
   "source": [
    "save_path = './optuna_studies/randomF_study.pkl'\n",
    "\n",
    "joblib.dump(study, save_path)"
   ]
  }
 ],
 "metadata": {
  "kernelspec": {
   "display_name": "DataScience",
   "language": "python",
   "name": "python3"
  },
  "language_info": {
   "codemirror_mode": {
    "name": "ipython",
    "version": 3
   },
   "file_extension": ".py",
   "mimetype": "text/x-python",
   "name": "python",
   "nbconvert_exporter": "python",
   "pygments_lexer": "ipython3",
   "version": "3.11.3"
  },
  "orig_nbformat": 4
 },
 "nbformat": 4,
 "nbformat_minor": 2
}
