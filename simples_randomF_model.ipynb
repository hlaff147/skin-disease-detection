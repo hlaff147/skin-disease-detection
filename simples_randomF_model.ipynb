{
 "cells": [
  {
   "attachments": {},
   "cell_type": "markdown",
   "metadata": {},
   "source": [
    "#### **Import Libs**"
   ]
  },
  {
   "cell_type": "code",
   "execution_count": 18,
   "metadata": {},
   "outputs": [],
   "source": [
    "import pandas as pd\n",
    "import numpy as np\n",
    "from sklearn.model_selection import train_test_split\n",
    "from sklearn.preprocessing import StandardScaler\n",
    "from sklearn.ensemble import RandomForestClassifier\n",
    "from sklearn.metrics import classification_report, confusion_matrix, accuracy_score"
   ]
  },
  {
   "attachments": {},
   "cell_type": "markdown",
   "metadata": {},
   "source": [
    "#### **Getting training && validation data**"
   ]
  },
  {
   "cell_type": "code",
   "execution_count": 19,
   "metadata": {},
   "outputs": [
    {
     "name": "stdout",
     "output_type": "stream",
     "text": [
      "Conjuntos de treinamento e teste separados!\n"
     ]
    }
   ],
   "source": [
    "table = pd.read_csv('./databases/dermatology.csv')\n",
    "\n",
    "data = np.array(table)\n",
    "\n",
    "data = data[:, 1:]\n",
    "\n",
    "labels = []\n",
    "for line in range(data.shape[0]):\n",
    "  if(labels.count(data[line, data.shape[1]-1])==0):\n",
    "    labels.append(data[line, data.shape[1]-1])\n",
    "\n",
    "scaler = StandardScaler()\n",
    "\n",
    "y = np.array(pd.get_dummies(data[:, data.shape[1]-1])).astype(np.float32)\n",
    "X = (data[:, :(data.shape[1]-1)]).astype(np.float32)\n",
    "\n",
    "scaler.fit(X) \n",
    "\n",
    "X_train_val, X_test, y_train_val, y_test = train_test_split(X, y, test_size=0.2)\n",
    "X_train, X_val, y_train, y_val = train_test_split(X_train_val, y_train_val, test_size=0.25)\n",
    "print('Conjuntos de treinamento e teste separados!')"
   ]
  },
  {
   "attachments": {},
   "cell_type": "markdown",
   "metadata": {},
   "source": [
    "#### **Random Forest**"
   ]
  },
  {
   "cell_type": "code",
   "execution_count": 20,
   "metadata": {},
   "outputs": [
    {
     "name": "stdout",
     "output_type": "stream",
     "text": [
      "              precision    recall  f1-score   support\n",
      "\n",
      "           0       1.00      1.00      1.00        23\n",
      "           1       0.93      0.93      0.93        14\n",
      "           2       1.00      1.00      1.00        19\n",
      "           3       1.00      0.88      0.93         8\n",
      "           4       1.00      1.00      1.00         9\n",
      "           5       1.00      1.00      1.00         1\n",
      "\n",
      "   micro avg       0.99      0.97      0.98        74\n",
      "   macro avg       0.99      0.97      0.98        74\n",
      "weighted avg       0.99      0.97      0.98        74\n",
      " samples avg       0.97      0.97      0.97        74\n",
      "\n",
      "acuracia 0.972972972972973\n"
     ]
    },
    {
     "name": "stderr",
     "output_type": "stream",
     "text": [
      "d:\\MiniConda\\envs\\DataScience\\Lib\\site-packages\\sklearn\\metrics\\_classification.py:1344: UndefinedMetricWarning: Precision and F-score are ill-defined and being set to 0.0 in samples with no predicted labels. Use `zero_division` parameter to control this behavior.\n",
      "  _warn_prf(average, modifier, msg_start, len(result))\n"
     ]
    }
   ],
   "source": [
    "model = RandomForestClassifier(n_estimators=21, random_state=0)\n",
    "model.fit(X_train, y_train)"
   ]
  }
 ],
 "metadata": {
  "kernelspec": {
   "display_name": "DataScience",
   "language": "python",
   "name": "python3"
  },
  "language_info": {
   "codemirror_mode": {
    "name": "ipython",
    "version": 3
   },
   "file_extension": ".py",
   "mimetype": "text/x-python",
   "name": "python",
   "nbconvert_exporter": "python",
   "pygments_lexer": "ipython3",
   "version": "3.11.3"
  },
  "orig_nbformat": 4
 },
 "nbformat": 4,
 "nbformat_minor": 2
}
