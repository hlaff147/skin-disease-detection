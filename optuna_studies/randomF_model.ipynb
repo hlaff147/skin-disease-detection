{
 "cells": [
  {
   "attachments": {},
   "cell_type": "markdown",
   "metadata": {},
   "source": [
    "#### **Import Libs**"
   ]
  },
  {
   "cell_type": "code",
   "execution_count": 25,
   "metadata": {},
   "outputs": [],
   "source": [
    "import pandas as pd\n",
    "import numpy as np\n",
    "from sklearn.model_selection import train_test_split\n",
    "import pandas as pd\n",
    "import io\n",
    "from sklearn.preprocessing import StandardScaler\n",
    "import matplotlib.pyplot as plt\n",
    "from sklearn.ensemble import RandomForestClassifier\n",
    "from sklearn.metrics import accuracy_score, confusion_matrix\n",
    "from joblib import delayed, Parallel\n",
    "from sklearn.datasets import load_digits\n",
    "import joblib\n"
   ]
  },
  {
   "cell_type": "markdown",
   "metadata": {},
   "source": [
    "#### **Getting training && validation data**"
   ]
  },
  {
   "cell_type": "code",
   "execution_count": 26,
   "metadata": {},
   "outputs": [
    {
     "name": "stdout",
     "output_type": "stream",
     "text": [
      "Conjuntos de treinamento e teste separados!\n"
     ]
    }
   ],
   "source": [
    "table = pd.read_csv('../databases/dermatology.csv')\n",
    "\n",
    "data = np.array(table)\n",
    "\n",
    "data = data[:, 1:]\n",
    "\n",
    "labels = []\n",
    "for line in range(data.shape[0]):\n",
    "  if(labels.count(data[line, data.shape[1]-1])==0):\n",
    "    labels.append(data[line, data.shape[1]-1])\n",
    "\n",
    "scaler = StandardScaler()\n",
    "\n",
    "y = np.array(pd.get_dummies(data[:, data.shape[1]-1])).astype(np.float32)\n",
    "x = (data[:, :(data.shape[1]-1)]).astype(np.float32)\n",
    "\n",
    "scaler.fit(x) \n",
    "\n",
    "train_x, test_x, train_y, test_y = train_test_split(x,y, test_size=0.25) \n",
    "\n",
    "print('Conjuntos de treinamento e teste separados!')"
   ]
  },
  {
   "attachments": {},
   "cell_type": "markdown",
   "metadata": {},
   "source": [
    "#### **Random Forest**"
   ]
  },
  {
   "cell_type": "code",
   "execution_count": 27,
   "metadata": {},
   "outputs": [],
   "source": [
    "# Best params Optuna\n",
    "params = {'n_estimators': 31,\n",
    " 'max_depth': 44,\n",
    " 'max_features': 'sqrt',\n",
    " 'criterion': 'gini',\n",
    " 'min_samples_split': 4,\n",
    " 'min_samples_leaf': 1}\n",
    "\n",
    "model = RandomForestClassifier(n_estimators=31,\n",
    "                               max_depth=44,\n",
    "                               max_features='sqrt',\n",
    "                               criterion='gini',\n",
    "                               min_samples_split=4,\n",
    "                               min_samples_leaf=1)"
   ]
  },
  {
   "cell_type": "code",
   "execution_count": 28,
   "metadata": {},
   "outputs": [],
   "source": [
    "model.fit(train_x, train_y)\n",
    "test_pred = model.predict(test_x)\n",
    "accuracy = accuracy_score(test_y, test_pred)"
   ]
  },
  {
   "cell_type": "code",
   "execution_count": 29,
   "metadata": {},
   "outputs": [
    {
     "data": {
      "text/plain": [
       "0.9782608695652174"
      ]
     },
     "execution_count": 29,
     "metadata": {},
     "output_type": "execute_result"
    }
   ],
   "source": [
    "accuracy"
   ]
  },
  {
   "attachments": {},
   "cell_type": "markdown",
   "metadata": {},
   "source": [
    "#### **Dump Model**"
   ]
  },
  {
   "cell_type": "code",
   "execution_count": 30,
   "metadata": {},
   "outputs": [
    {
     "data": {
      "text/plain": [
       "['../raw_models/randomF_model_1.pkl']"
      ]
     },
     "execution_count": 30,
     "metadata": {},
     "output_type": "execute_result"
    }
   ],
   "source": [
    "joblib.dump(model, '../raw_models/randomF_model_1.pkl')"
   ]
  }
 ],
 "metadata": {
  "kernelspec": {
   "display_name": "DataScience",
   "language": "python",
   "name": "python3"
  },
  "language_info": {
   "codemirror_mode": {
    "name": "ipython",
    "version": 3
   },
   "file_extension": ".py",
   "mimetype": "text/x-python",
   "name": "python",
   "nbconvert_exporter": "python",
   "pygments_lexer": "ipython3",
   "version": "3.11.3"
  },
  "orig_nbformat": 4
 },
 "nbformat": 4,
 "nbformat_minor": 2
}
